{
 "cells": [
  {
   "cell_type": "markdown",
   "metadata": {},
   "source": [
    "# <a id=\"TableOfContents\"></a>Table of contents\n",
    "\n",
    "* [Certification](#Certification)\n",
    "* [The Problem](#TheProblem)\n",
    "* [Import Libraries](#ImportLibraries)\n",
    "* [Create and Display Matrices](#CreateAndDisplayMatrices)\n",
    "* [Solve the Equation with SciPy](#SolveTheEquationWithSciPy)\n",
    "* [Confirm the Solution](#ConfirmTheSolution)\n",
    "* [Final Answer](#FinalAnswer)"
   ]
  },
  {
   "cell_type": "markdown",
   "metadata": {},
   "source": [
    "# <a id=\"Certification\"></a>Certification \n",
    "\n",
    "\n",
    "\n",
    "Your output file must contain the following certification:\n",
    "\n",
    "> I certify that this project is my own work and is not the work of others. I agree not to share my solution with others. - Ben Smith"
   ]
  },
  {
   "cell_type": "markdown",
   "metadata": {},
   "source": [
    "# <a id=\"TheProblem\"></a>The Problem\n",
    "\n",
    "Solve for v, w, x, y, and z for the following system of equations.\n",
    "\n",
    "16v +17w +12x  +66y +45z = 156  \n",
    "\n",
    " 29v -18w -15x  +73y +70z = 139  \n",
    " \n",
    "-14v +46w -27x  +58y +91z = 154  \n",
    "\n",
    " 33v +37w +24x -123y +54z =  25  \n",
    " \n",
    " 20v -27w +18x  +19y -56z = -26  "
   ]
  },
  {
   "cell_type": "markdown",
   "metadata": {},
   "source": [
    "### <a id=\"ImportLibraries\"></a>Import Libraries \n",
    "\n",
    "Begin by importing the necessary libraries."
   ]
  },
  {
   "cell_type": "code",
   "execution_count": 3,
   "metadata": {},
   "outputs": [],
   "source": [
    "import numpy as np\n",
    "from scipy import linalg"
   ]
  },
  {
   "cell_type": "markdown",
   "metadata": {},
   "source": [
    "### <a id=\"CreateAndDisplayMatrices\"></a>Create and Display Matrices\n",
    "\n",
    "Next, create matrices corresponding to the given system of equations using numpy's `array` function and display them with the `print` function.  "
   ]
  },
  {
   "cell_type": "code",
   "execution_count": 5,
   "metadata": {},
   "outputs": [
    {
     "name": "stdout",
     "output_type": "stream",
     "text": [
      "[[  16   17   12   66   45]\n",
      " [  29  -18  -15   73   70]\n",
      " [ -14   46  -27   58   91]\n",
      " [  33   37   24 -123   54]\n",
      " [  20  -27   18   19  -56]]\n"
     ]
    }
   ],
   "source": [
    "A = np.array([[16, 17, 12, 66, 45],\n",
    "              [29, -18, -15, 73, 70],\n",
    "              [-14, 46, -27, 58, 91],\n",
    "              [33, 37, 24, -123, 54],\n",
    "              [20, -27, 18, 19, -56]])\n",
    "print(A)"
   ]
  },
  {
   "cell_type": "code",
   "execution_count": 6,
   "metadata": {},
   "outputs": [
    {
     "name": "stdout",
     "output_type": "stream",
     "text": [
      "[[156]\n",
      " [139]\n",
      " [154]\n",
      " [ 25]\n",
      " [-26]]\n"
     ]
    }
   ],
   "source": [
    "b = np.array([[156], [139], [154], [25], [-26]])\n",
    "print(b)"
   ]
  },
  {
   "cell_type": "markdown",
   "metadata": {},
   "source": [
    "### <a id=\"SolveTheEquationWithSciPy\"></a>Solve the Equation with SciPy\n",
    "\n",
    "Finally, call the `solve` function from SciPy's linear algebra module to compute the solution to the system, then display it using the `print` function. "
   ]
  },
  {
   "cell_type": "code",
   "execution_count": 7,
   "metadata": {},
   "outputs": [
    {
     "name": "stdout",
     "output_type": "stream",
     "text": [
      "[[1.]\n",
      " [1.]\n",
      " [1.]\n",
      " [1.]\n",
      " [1.]]\n"
     ]
    }
   ],
   "source": [
    "vwxyz = np.linalg.solve(A,b)\n",
    "print(vwxyz)"
   ]
  },
  {
   "cell_type": "markdown",
   "metadata": {},
   "source": [
    "### <a id=\"ConfirmTheSolution\"></a>Confirm the Solution\n",
    "\n",
    "To confirm that the solution is correct, compute the dot matrix between the `A` matrix and the solution `xyz` matrix. If the result matches the original `b` matrix, the solution is correct.  "
   ]
  },
  {
   "cell_type": "code",
   "execution_count": 8,
   "metadata": {},
   "outputs": [
    {
     "name": "stdout",
     "output_type": "stream",
     "text": [
      "[[156.]\n",
      " [139.]\n",
      " [154.]\n",
      " [ 25.]\n",
      " [-26.]]\n"
     ]
    }
   ],
   "source": [
    "print(A.dot(vwxyz))"
   ]
  },
  {
   "cell_type": "markdown",
   "metadata": {},
   "source": [
    "This is the equivalent of solving the following:\n",
    "\n",
    "$\\begin{equation*}\n",
    "\\begin{vmatrix}\n",
    "\\mathbf{16} & \\mathbf{17} & \\mathbf{12} & \\mathbf{66} & \\mathbf{45} \\\\\n",
    "\\mathbf{29} & \\mathbf{-18} & \\mathbf{-15} & \\mathbf{73} & \\mathbf{70} \\\\\n",
    "\\mathbf{-14} & \\mathbf{46} & \\mathbf{-27} & \\mathbf{58} & \\mathbf{91} \\\\\n",
    "\\mathbf{33} & \\mathbf{37} & \\mathbf{24} & \\mathbf{-123} & \\mathbf{54} \\\\\n",
    "\\mathbf{20} & \\mathbf{-27} & \\mathbf{18} & \\mathbf{19} & \\mathbf{-56} \\\\\n",
    "\\end{vmatrix}\n",
    "\\begin{vmatrix}\n",
    "\\mathbf{v} \\\\\n",
    "\\mathbf{w} \\\\\n",
    "\\mathbf{x} \\\\\n",
    "\\mathbf{y} \\\\\n",
    "\\mathbf{z}\n",
    "\\end{vmatrix} = \n",
    "\\begin{vmatrix}\n",
    "\\mathbf{156} \\\\\n",
    "\\mathbf{139} \\\\\n",
    "\\mathbf{154} \\\\\n",
    "\\mathbf{25} \\\\\n",
    "\\mathbf{-26}\n",
    "\\end{vmatrix}\n",
    "\\end{equation*}$\n",
    "\n",
    "$\\begin{equation*}\n",
    "\\begin{vmatrix}\n",
    "\\mathbf{16} & \\mathbf{17} & \\mathbf{12} & \\mathbf{66} & \\mathbf{45} \\\\\n",
    "\\mathbf{29} & \\mathbf{-18} & \\mathbf{-15} & \\mathbf{73} & \\mathbf{70} \\\\\n",
    "\\mathbf{-14} & \\mathbf{46} & \\mathbf{-27} & \\mathbf{58} & \\mathbf{91} \\\\\n",
    "\\mathbf{33} & \\mathbf{37} & \\mathbf{24} & \\mathbf{-123} & \\mathbf{54} \\\\\n",
    "\\mathbf{20} & \\mathbf{-27} & \\mathbf{18} & \\mathbf{19} & \\mathbf{-56} \\\\\n",
    "\\end{vmatrix}\n",
    "\\begin{vmatrix}\n",
    "\\mathbf{1} \\\\\n",
    "\\mathbf{1} \\\\\n",
    "\\mathbf{1} \\\\\n",
    "\\mathbf{1} \\\\\n",
    "\\mathbf{1}\n",
    "\\end{vmatrix} = \n",
    "\\begin{vmatrix}\n",
    "\\mathbf{156} \\\\\n",
    "\\mathbf{139} \\\\\n",
    "\\mathbf{154} \\\\\n",
    "\\mathbf{25} \\\\\n",
    "\\mathbf{-26}\n",
    "\\end{vmatrix}\n",
    "\\end{equation*}$\n",
    "\n",
    "$\\begin{equation*}\n",
    "\\begin{vmatrix}\n",
    "\\mathbf{156} \\\\\n",
    "\\mathbf{139} \\\\\n",
    "\\mathbf{154} \\\\\n",
    "\\mathbf{25} \\\\\n",
    "\\mathbf{-26}\n",
    "\\end{vmatrix} =\n",
    "\\begin{vmatrix}\n",
    "\\mathbf{156} \\\\\n",
    "\\mathbf{139} \\\\\n",
    "\\mathbf{154} \\\\\n",
    "\\mathbf{25} \\\\\n",
    "\\mathbf{-26}\n",
    "\\end{vmatrix}\n",
    "\\end{equation*}$\n",
    "\n",
    "Which is the matrix operations equivalent of plugging each solution value back into the original equation, then simplifying to confirm that the two sides are equal."
   ]
  },
  {
   "cell_type": "markdown",
   "metadata": {},
   "source": [
    "### <a id=\"FinalAnswer\"></a>Final Answer\n",
    "v = 1  \n",
    "  \n",
    "w = 1  \n",
    "  \n",
    "x = 1  \n",
    "  \n",
    "y = 1  \n",
    "  \n",
    "z = 1"
   ]
  }
 ],
 "metadata": {
  "kernelspec": {
   "display_name": "Python 3",
   "language": "python",
   "name": "python3"
  },
  "language_info": {
   "codemirror_mode": {
    "name": "ipython",
    "version": 3
   },
   "file_extension": ".py",
   "mimetype": "text/x-python",
   "name": "python",
   "nbconvert_exporter": "python",
   "pygments_lexer": "ipython3",
   "version": "3.8.5"
  }
 },
 "nbformat": 4,
 "nbformat_minor": 4
}
