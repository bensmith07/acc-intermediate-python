{
 "cells": [
  {
   "cell_type": "markdown",
   "metadata": {},
   "source": [
    "# <a id=\"TableOfContents\"></a>Table of contents\n",
    "\n",
    "* [Certification](#Certification)\n",
    "* [The Problem](#TheProblem)\n",
    "* [Import Libraries](#ImportLibraries)\n",
    "* [Create and Display Matrices](#CreateAndDisplayMatrices)\n",
    "* [Solve the Equation with SciPy](#SolveTheEquationWithSciPy)\n",
    "* [Confirm the Solution](#ConfirmTheSolution)\n",
    "* [Final Answer](#FinalAnswer)"
   ]
  },
  {
   "cell_type": "markdown",
   "metadata": {},
   "source": [
    "# <a id=\"Certification\"></a>Certification \n",
    "\n",
    "\n",
    "\n",
    "Your output file must contain the following certification:\n",
    "\n",
    "> I certify that this project is my own work and is not the work of others. I agree not to share my solution with others. - Ben Smith"
   ]
  },
  {
   "cell_type": "markdown",
   "metadata": {},
   "source": [
    "# <a id=\"TheProblem\"></a>The Problem\n",
    "\n",
    "Solve for x, y, and z for the following system of equations.\n",
    "\n",
    "3x + 4y + 3z = 10\n",
    "\n",
    "9x - 10y - 10z = -11\n",
    "\n",
    "4x + 15y +18z = 37"
   ]
  },
  {
   "cell_type": "markdown",
   "metadata": {},
   "source": [
    "### <a id=\"ImportLibraries\"></a>Import Libraries \n",
    "\n",
    "Begin by importing the necessary libraries."
   ]
  },
  {
   "cell_type": "code",
   "execution_count": 1,
   "metadata": {},
   "outputs": [],
   "source": [
    "import numpy as np\n",
    "from scipy import linalg"
   ]
  },
  {
   "cell_type": "markdown",
   "metadata": {},
   "source": [
    "### <a id=\"CreateAndDisplayMatrices\"></a>Create and Display Matrices\n",
    "\n",
    "Next, create matrices corresponding to the given system of equations using numpy's `array` function and display them with the `print` function.  "
   ]
  },
  {
   "cell_type": "code",
   "execution_count": 2,
   "metadata": {},
   "outputs": [
    {
     "name": "stdout",
     "output_type": "stream",
     "text": [
      "[[  3   4   3]\n",
      " [  9 -10 -10]\n",
      " [  4  15  18]]\n"
     ]
    }
   ],
   "source": [
    "A = np.array([[3, 4, 3], [9, -10, -10], [4, 15, 18]])\n",
    "print(A)"
   ]
  },
  {
   "cell_type": "code",
   "execution_count": 3,
   "metadata": {},
   "outputs": [
    {
     "name": "stdout",
     "output_type": "stream",
     "text": [
      "[[ 10]\n",
      " [-11]\n",
      " [ 37]]\n"
     ]
    }
   ],
   "source": [
    "b = np.array([[10], [-11], [37]])\n",
    "print(b)"
   ]
  },
  {
   "cell_type": "markdown",
   "metadata": {},
   "source": [
    "### <a id=\"SolveTheEquationWithSciPy\"></a>Solve the Equation with SciPy\n",
    "\n",
    "Finally, call the `solve` function from SciPy's linear algebra module to compute the solution to the system, then display it using the `print` function. "
   ]
  },
  {
   "cell_type": "code",
   "execution_count": 4,
   "metadata": {},
   "outputs": [
    {
     "name": "stdout",
     "output_type": "stream",
     "text": [
      "[[1.]\n",
      " [1.]\n",
      " [1.]]\n"
     ]
    }
   ],
   "source": [
    "xyz = np.linalg.solve(A,b)\n",
    "print(xyz)"
   ]
  },
  {
   "cell_type": "markdown",
   "metadata": {},
   "source": [
    "### <a id=\"ConfirmTheSolution\"></a>Confirm the Solution\n",
    "\n",
    "To confirm that the solution is correct, compute the dot matrix between the `A` matrix and the solution `xyz` matrix. If the result matches the original `b` matrix, the solution is correct.  "
   ]
  },
  {
   "cell_type": "code",
   "execution_count": 5,
   "metadata": {},
   "outputs": [
    {
     "name": "stdout",
     "output_type": "stream",
     "text": [
      "[[ 10.]\n",
      " [-11.]\n",
      " [ 37.]]\n"
     ]
    }
   ],
   "source": [
    "print(A.dot(xyz))"
   ]
  },
  {
   "cell_type": "markdown",
   "metadata": {},
   "source": [
    "This is the equivalent of solving the following:\n",
    "\n",
    "$\\begin{equation*}\n",
    "\\begin{vmatrix}\n",
    "\\mathbf{3} & \\mathbf{4} & \\mathbf{3} \\\\\n",
    "\\mathbf{9} & \\mathbf{-10} & \\mathbf{-10} \\\\\n",
    "\\mathbf{4} & \\mathbf{15} & \\mathbf{18}\n",
    "\\end{vmatrix}\n",
    "\\begin{vmatrix}\n",
    "\\mathbf{x} \\\\\n",
    "\\mathbf{y} \\\\\n",
    "\\mathbf{z}\n",
    "\\end{vmatrix} = \n",
    "\\begin{vmatrix}\n",
    "\\mathbf{10} \\\\\n",
    "\\mathbf{-11} \\\\\n",
    "\\mathbf{37}\n",
    "\\end{vmatrix}\n",
    "\\end{equation*}$\n",
    "\n",
    "$\\begin{equation*}\n",
    "\\begin{vmatrix}\n",
    "\\mathbf{3} & \\mathbf{4} & \\mathbf{3} \\\\\n",
    "\\mathbf{9} & \\mathbf{-10} & \\mathbf{-10} \\\\\n",
    "\\mathbf{4} & \\mathbf{15} & \\mathbf{18}\n",
    "\\end{vmatrix}\n",
    "\\begin{vmatrix}\n",
    "\\mathbf{1} \\\\\n",
    "\\mathbf{1} \\\\\n",
    "\\mathbf{1}\n",
    "\\end{vmatrix} =\n",
    "\\begin{vmatrix}\n",
    "\\mathbf{10} \\\\\n",
    "\\mathbf{-11} \\\\\n",
    "\\mathbf{37}\n",
    "\\end{vmatrix}\n",
    "\\end{equation*}$\n",
    "\n",
    "$\\begin{equation*}\n",
    "\\begin{vmatrix}\n",
    "\\mathbf{10} \\\\\n",
    "\\mathbf{-11} \\\\\n",
    "\\mathbf{37}\n",
    "\\end{vmatrix} =\n",
    "\\begin{vmatrix}\n",
    "\\mathbf{10} \\\\\n",
    "\\mathbf{-11} \\\\\n",
    "\\mathbf{37}\n",
    "\\end{vmatrix}\n",
    "\\end{equation*}$\n",
    "\n",
    "...which is the matrix operations equivalent of plugging each solution value back into the original equation, then simplifying to confirm that the two sides are equal."
   ]
  },
  {
   "cell_type": "markdown",
   "metadata": {},
   "source": [
    "### <a id=\"FinalAnswer\"></a>Final Answer\n",
    "\n",
    "x = 1\n",
    "  \n",
    "y = 1 \n",
    "  \n",
    "z = 1"
   ]
  }
 ],
 "metadata": {
  "kernelspec": {
   "display_name": "Python 3",
   "language": "python",
   "name": "python3"
  },
  "language_info": {
   "codemirror_mode": {
    "name": "ipython",
    "version": 3
   },
   "file_extension": ".py",
   "mimetype": "text/x-python",
   "name": "python",
   "nbconvert_exporter": "python",
   "pygments_lexer": "ipython3",
   "version": "3.8.5"
  }
 },
 "nbformat": 4,
 "nbformat_minor": 4
}
